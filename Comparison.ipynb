{
 "cells": [
  {
   "cell_type": "code",
   "execution_count": 20,
   "metadata": {},
   "outputs": [],
   "source": [
    "import pandas as pd\n",
    "import numpy as np\n",
    "import subprocess as sp\n",
    "from rpy2.robjects import r, pandas2ri\n",
    "\n",
    "pandas2ri.activate()"
   ]
  },
  {
   "cell_type": "code",
   "execution_count": 2,
   "metadata": {},
   "outputs": [],
   "source": [
    "popseq = pd.read_pickle(\"180130_wheat_CSS_POPSEQ.pickle.gz\")"
   ]
  },
  {
   "cell_type": "code",
   "execution_count": 33,
   "metadata": {},
   "outputs": [
    {
     "name": "stdout",
     "output_type": "stream",
     "text": [
      "-rw-rw-rw- 1 lucve lucve  12M May 12 19:52 180130_wheat_CSS_POPSEQ.pickle.gz\r\n",
      "-rw-rw-rw- 1 lucve lucve 3.4M May 12 20:17 assembly.initial_assembly.pickle.gz\r\n",
      "-rw-rw-rw- 1 lucve lucve  27M May 12 20:18 assembly.anchored_assembly.pickle\r\n",
      "-rw-rw-rw- 1 lucve lucve  967 May 12 20:18 assembly.initial_breaks.pickle.gz\r\n"
     ]
    }
   ],
   "source": [
    "! ls -lrth *pickle*"
   ]
  },
  {
   "cell_type": "code",
   "execution_count": 34,
   "metadata": {},
   "outputs": [
    {
     "name": "stdout",
     "output_type": "stream",
     "text": [
      "-rw-rw-rw- 1 lucve lucve 3.5M May 12 20:22 Minimal/assembly_init.Rds\r\n",
      "-rw-rw-rw- 1 lucve lucve  14M May 12 20:22 Minimal/alchemy_v0.Rds\r\n",
      "-rw-rw-rw- 1 lucve lucve  603 May 12 20:22 Minimal/alchemy_v0_breaks.Rds\r\n",
      "-rw-rw-rw- 1 lucve lucve  14M May 12 20:23 Minimal/20200414_assembly_v1.Rds\r\n",
      "-rw-rw-rw- 1 lucve lucve  815 May 12 20:23 Minimal/20200414_assembly_breaks.Rds\r\n"
     ]
    }
   ],
   "source": [
    "! ls -lrth Minimal/*Rds"
   ]
  },
  {
   "cell_type": "code",
   "execution_count": 31,
   "metadata": {},
   "outputs": [
    {
     "ename": "ValueError",
     "evalue": "Can only compare identically-labeled DataFrame objects",
     "output_type": "error",
     "traceback": [
      "\u001b[0;31m---------------------------------------------------------------------------\u001b[0m",
      "\u001b[0;31mValueError\u001b[0m                                Traceback (most recent call last)",
      "\u001b[0;32m<ipython-input-31-204c073441af>\u001b[0m in \u001b[0;36m<module>\u001b[0;34m\u001b[0m\n\u001b[1;32m      3\u001b[0m \u001b[0;34m\u001b[0m\u001b[0m\n\u001b[1;32m      4\u001b[0m \u001b[0minitial\u001b[0m \u001b[0;34m=\u001b[0m \u001b[0mpd\u001b[0m\u001b[0;34m.\u001b[0m\u001b[0mread_pickle\u001b[0m\u001b[0;34m(\u001b[0m\u001b[0;34m\"assembly.initial_assembly.pickle.gz\"\u001b[0m\u001b[0;34m)\u001b[0m\u001b[0;34m\u001b[0m\u001b[0;34m\u001b[0m\u001b[0m\n\u001b[0;32m----> 5\u001b[0;31m \u001b[0minitial\u001b[0m\u001b[0;34m[\u001b[0m\u001b[0;34m\"info\"\u001b[0m\u001b[0;34m]\u001b[0m \u001b[0;34m==\u001b[0m \u001b[0mr_initial\u001b[0m\u001b[0;34m[\u001b[0m\u001b[0;34m\"info\"\u001b[0m\u001b[0;34m]\u001b[0m\u001b[0;34m\u001b[0m\u001b[0;34m\u001b[0m\u001b[0m\n\u001b[0m",
      "\u001b[0;32m~/miniconda3/envs/pytritex/lib/python3.7/site-packages/pandas/core/ops/__init__.py\u001b[0m in \u001b[0;36mf\u001b[0;34m(self, other)\u001b[0m\n\u001b[1;32m    837\u001b[0m             \u001b[0;32mif\u001b[0m \u001b[0;32mnot\u001b[0m \u001b[0mself\u001b[0m\u001b[0;34m.\u001b[0m\u001b[0m_indexed_same\u001b[0m\u001b[0;34m(\u001b[0m\u001b[0mother\u001b[0m\u001b[0;34m)\u001b[0m\u001b[0;34m:\u001b[0m\u001b[0;34m\u001b[0m\u001b[0;34m\u001b[0m\u001b[0m\n\u001b[1;32m    838\u001b[0m                 raise ValueError(\n\u001b[0;32m--> 839\u001b[0;31m                     \u001b[0;34m\"Can only compare identically-labeled DataFrame objects\"\u001b[0m\u001b[0;34m\u001b[0m\u001b[0;34m\u001b[0m\u001b[0m\n\u001b[0m\u001b[1;32m    840\u001b[0m                 )\n\u001b[1;32m    841\u001b[0m             \u001b[0mnew_data\u001b[0m \u001b[0;34m=\u001b[0m \u001b[0mdispatch_to_series\u001b[0m\u001b[0;34m(\u001b[0m\u001b[0mself\u001b[0m\u001b[0;34m,\u001b[0m \u001b[0mother\u001b[0m\u001b[0;34m,\u001b[0m \u001b[0mop\u001b[0m\u001b[0;34m,\u001b[0m \u001b[0mstr_rep\u001b[0m\u001b[0;34m)\u001b[0m\u001b[0;34m\u001b[0m\u001b[0;34m\u001b[0m\u001b[0m\n",
      "\u001b[0;31mValueError\u001b[0m: Can only compare identically-labeled DataFrame objects"
     ]
    }
   ],
   "source": [
    "# These are now identical\n",
    "\n",
    "r_initial_r = r[\"readRDS\"](\"Minimal/assembly_init.Rds\")\n",
    "r_initial = dict(zip(r_initial_r.names, r_initial_r))\n",
    "\n",
    "initial = pd.read_pickle(\"assembly.initial_assembly.pickle.gz\")"
   ]
  },
  {
   "cell_type": "code",
   "execution_count": 36,
   "metadata": {},
   "outputs": [],
   "source": [
    "r_anchored_r = r[\"readRDS\"](\"Minimal/alchemy_v0.Rds\")\n",
    "r_anchored = dict(zip(r_anchored_r.names, r_anchored_r))"
   ]
  },
  {
   "cell_type": "code",
   "execution_count": 37,
   "metadata": {},
   "outputs": [],
   "source": [
    "! mv assembly.anchored_assembly.pickle assembly.anchored_assembly.pickle.gz"
   ]
  },
  {
   "cell_type": "code",
   "execution_count": 60,
   "metadata": {},
   "outputs": [],
   "source": [
    "anchored = pd.read_pickle(\"assembly.anchored_assembly.pickle.gz\")"
   ]
  },
  {
   "cell_type": "code",
   "execution_count": 61,
   "metadata": {},
   "outputs": [
    {
     "name": "stdout",
     "output_type": "stream",
     "text": [
      "info (100, 46) (100, 46)\n",
      "cssaln (8568, 16) (8568, 16)\n",
      "fpairs (4818, 10) (4818, 10)\n",
      "molecules (130892, 10) (130892, 10)\n",
      "popseq (1552095, 10) (1552095, 10)\n",
      "molecule_cov (200421, 8) (200421, 8)\n",
      "mol_binsize [200.] 200\n",
      "cov (6830, 10) (6830, 10)\n",
      "binsize [5000.] 5000.0\n",
      "minNbin [50.] 50\n",
      "innerDist [300000.] 300000.0\n"
     ]
    }
   ],
   "source": [
    "for key in r_anchored:\n",
    "    if isinstance(r_anchored[key], pd.DataFrame):\n",
    "        print(key, r_anchored[key].shape, anchored[key].shape)\n",
    "    else:\n",
    "        print(key, r_anchored[key], anchored[key])"
   ]
  },
  {
   "cell_type": "code",
   "execution_count": 59,
   "metadata": {},
   "outputs": [
    {
     "data": {
      "text/plain": [
       "(4818, 8)"
      ]
     },
     "execution_count": 59,
     "metadata": {},
     "output_type": "execute_result"
    }
   ],
   "source": [
    "r_initial[\"fpairs\"].shape"
   ]
  },
  {
   "cell_type": "code",
   "execution_count": 63,
   "metadata": {},
   "outputs": [],
   "source": [
    "r_v1_r = r[\"readRDS\"](\"Minimal/20200414_assembly_v1.Rds\")\n",
    "r_v1 = dict(zip(r_v1.names, r_v1))"
   ]
  },
  {
   "cell_type": "code",
   "execution_count": 64,
   "metadata": {},
   "outputs": [
    {
     "data": {
      "text/html": [
       "<div>\n",
       "<style scoped>\n",
       "    .dataframe tbody tr th:only-of-type {\n",
       "        vertical-align: middle;\n",
       "    }\n",
       "\n",
       "    .dataframe tbody tr th {\n",
       "        vertical-align: top;\n",
       "    }\n",
       "\n",
       "    .dataframe thead th {\n",
       "        text-align: right;\n",
       "    }\n",
       "</style>\n",
       "<table border=\"1\" class=\"dataframe\">\n",
       "  <thead>\n",
       "    <tr style=\"text-align: right;\">\n",
       "      <th></th>\n",
       "      <th>scaffold2</th>\n",
       "      <th>chr2</th>\n",
       "      <th>scaffold1</th>\n",
       "      <th>chr1</th>\n",
       "      <th>orig_scaffold2</th>\n",
       "      <th>orig_pos2</th>\n",
       "      <th>orig_scaffold1</th>\n",
       "      <th>orig_pos1</th>\n",
       "      <th>pos1</th>\n",
       "      <th>pos2</th>\n",
       "    </tr>\n",
       "  </thead>\n",
       "  <tbody>\n",
       "    <tr>\n",
       "      <th>1</th>\n",
       "      <td>scaffold_corrected_000924</td>\n",
       "      <td>10</td>\n",
       "      <td>scaffold_corrected_000924</td>\n",
       "      <td>10</td>\n",
       "      <td>Triticum_aestivum_alchemy_EIv1_scaffold_000924</td>\n",
       "      <td>189046</td>\n",
       "      <td>Triticum_aestivum_alchemy_EIv1_scaffold_000924</td>\n",
       "      <td>29974</td>\n",
       "      <td>29974.0</td>\n",
       "      <td>189046.0</td>\n",
       "    </tr>\n",
       "    <tr>\n",
       "      <th>2</th>\n",
       "      <td>scaffold_corrected_000924</td>\n",
       "      <td>10</td>\n",
       "      <td>scaffold_corrected_000924</td>\n",
       "      <td>10</td>\n",
       "      <td>Triticum_aestivum_alchemy_EIv1_scaffold_000924</td>\n",
       "      <td>29974</td>\n",
       "      <td>Triticum_aestivum_alchemy_EIv1_scaffold_000924</td>\n",
       "      <td>189046</td>\n",
       "      <td>189046.0</td>\n",
       "      <td>29974.0</td>\n",
       "    </tr>\n",
       "    <tr>\n",
       "      <th>3</th>\n",
       "      <td>scaffold_corrected_000026</td>\n",
       "      <td>13</td>\n",
       "      <td>scaffold_corrected_000026</td>\n",
       "      <td>13</td>\n",
       "      <td>Triticum_aestivum_alchemy_EIv1_scaffold_000026</td>\n",
       "      <td>468920</td>\n",
       "      <td>Triticum_aestivum_alchemy_EIv1_scaffold_000026</td>\n",
       "      <td>467870</td>\n",
       "      <td>467870.0</td>\n",
       "      <td>468920.0</td>\n",
       "    </tr>\n",
       "    <tr>\n",
       "      <th>4</th>\n",
       "      <td>scaffold_corrected_000026</td>\n",
       "      <td>13</td>\n",
       "      <td>scaffold_corrected_000026</td>\n",
       "      <td>13</td>\n",
       "      <td>Triticum_aestivum_alchemy_EIv1_scaffold_000026</td>\n",
       "      <td>467870</td>\n",
       "      <td>Triticum_aestivum_alchemy_EIv1_scaffold_000026</td>\n",
       "      <td>468920</td>\n",
       "      <td>468920.0</td>\n",
       "      <td>467870.0</td>\n",
       "    </tr>\n",
       "    <tr>\n",
       "      <th>5</th>\n",
       "      <td>scaffold_corrected_000119</td>\n",
       "      <td>10</td>\n",
       "      <td>scaffold_corrected_000119</td>\n",
       "      <td>10</td>\n",
       "      <td>Triticum_aestivum_alchemy_EIv1_scaffold_000119</td>\n",
       "      <td>241689</td>\n",
       "      <td>Triticum_aestivum_alchemy_EIv1_scaffold_000119</td>\n",
       "      <td>241423</td>\n",
       "      <td>241423.0</td>\n",
       "      <td>241689.0</td>\n",
       "    </tr>\n",
       "    <tr>\n",
       "      <th>...</th>\n",
       "      <td>...</td>\n",
       "      <td>...</td>\n",
       "      <td>...</td>\n",
       "      <td>...</td>\n",
       "      <td>...</td>\n",
       "      <td>...</td>\n",
       "      <td>...</td>\n",
       "      <td>...</td>\n",
       "      <td>...</td>\n",
       "      <td>...</td>\n",
       "    </tr>\n",
       "    <tr>\n",
       "      <th>4814</th>\n",
       "      <td>scaffold_corrected_000259</td>\n",
       "      <td>11</td>\n",
       "      <td>scaffold_corrected_000933</td>\n",
       "      <td>12</td>\n",
       "      <td>Triticum_aestivum_alchemy_EIv1_scaffold_000259</td>\n",
       "      <td>16264</td>\n",
       "      <td>Triticum_aestivum_alchemy_EIv1_scaffold_000933</td>\n",
       "      <td>36643</td>\n",
       "      <td>36643.0</td>\n",
       "      <td>16264.0</td>\n",
       "    </tr>\n",
       "    <tr>\n",
       "      <th>4815</th>\n",
       "      <td>scaffold_corrected_000789</td>\n",
       "      <td>7</td>\n",
       "      <td>scaffold_corrected_000789</td>\n",
       "      <td>7</td>\n",
       "      <td>Triticum_aestivum_alchemy_EIv1_scaffold_000789</td>\n",
       "      <td>306072</td>\n",
       "      <td>Triticum_aestivum_alchemy_EIv1_scaffold_000789</td>\n",
       "      <td>271070</td>\n",
       "      <td>271070.0</td>\n",
       "      <td>306072.0</td>\n",
       "    </tr>\n",
       "    <tr>\n",
       "      <th>4816</th>\n",
       "      <td>scaffold_corrected_000789</td>\n",
       "      <td>7</td>\n",
       "      <td>scaffold_corrected_000789</td>\n",
       "      <td>7</td>\n",
       "      <td>Triticum_aestivum_alchemy_EIv1_scaffold_000789</td>\n",
       "      <td>271070</td>\n",
       "      <td>Triticum_aestivum_alchemy_EIv1_scaffold_000789</td>\n",
       "      <td>306072</td>\n",
       "      <td>306072.0</td>\n",
       "      <td>271070.0</td>\n",
       "    </tr>\n",
       "    <tr>\n",
       "      <th>4817</th>\n",
       "      <td>scaffold_corrected_000967</td>\n",
       "      <td>9</td>\n",
       "      <td>scaffold_corrected_000967</td>\n",
       "      <td>9</td>\n",
       "      <td>Triticum_aestivum_alchemy_EIv1_scaffold_000967</td>\n",
       "      <td>129808</td>\n",
       "      <td>Triticum_aestivum_alchemy_EIv1_scaffold_000967</td>\n",
       "      <td>129591</td>\n",
       "      <td>129591.0</td>\n",
       "      <td>129808.0</td>\n",
       "    </tr>\n",
       "    <tr>\n",
       "      <th>4818</th>\n",
       "      <td>scaffold_corrected_000967</td>\n",
       "      <td>9</td>\n",
       "      <td>scaffold_corrected_000967</td>\n",
       "      <td>9</td>\n",
       "      <td>Triticum_aestivum_alchemy_EIv1_scaffold_000967</td>\n",
       "      <td>129591</td>\n",
       "      <td>Triticum_aestivum_alchemy_EIv1_scaffold_000967</td>\n",
       "      <td>129808</td>\n",
       "      <td>129808.0</td>\n",
       "      <td>129591.0</td>\n",
       "    </tr>\n",
       "  </tbody>\n",
       "</table>\n",
       "<p>4818 rows × 10 columns</p>\n",
       "</div>"
      ],
      "text/plain": [
       "                      scaffold2  chr2                  scaffold1  chr1  \\\n",
       "1     scaffold_corrected_000924    10  scaffold_corrected_000924    10   \n",
       "2     scaffold_corrected_000924    10  scaffold_corrected_000924    10   \n",
       "3     scaffold_corrected_000026    13  scaffold_corrected_000026    13   \n",
       "4     scaffold_corrected_000026    13  scaffold_corrected_000026    13   \n",
       "5     scaffold_corrected_000119    10  scaffold_corrected_000119    10   \n",
       "...                         ...   ...                        ...   ...   \n",
       "4814  scaffold_corrected_000259    11  scaffold_corrected_000933    12   \n",
       "4815  scaffold_corrected_000789     7  scaffold_corrected_000789     7   \n",
       "4816  scaffold_corrected_000789     7  scaffold_corrected_000789     7   \n",
       "4817  scaffold_corrected_000967     9  scaffold_corrected_000967     9   \n",
       "4818  scaffold_corrected_000967     9  scaffold_corrected_000967     9   \n",
       "\n",
       "                                      orig_scaffold2  orig_pos2  \\\n",
       "1     Triticum_aestivum_alchemy_EIv1_scaffold_000924     189046   \n",
       "2     Triticum_aestivum_alchemy_EIv1_scaffold_000924      29974   \n",
       "3     Triticum_aestivum_alchemy_EIv1_scaffold_000026     468920   \n",
       "4     Triticum_aestivum_alchemy_EIv1_scaffold_000026     467870   \n",
       "5     Triticum_aestivum_alchemy_EIv1_scaffold_000119     241689   \n",
       "...                                              ...        ...   \n",
       "4814  Triticum_aestivum_alchemy_EIv1_scaffold_000259      16264   \n",
       "4815  Triticum_aestivum_alchemy_EIv1_scaffold_000789     306072   \n",
       "4816  Triticum_aestivum_alchemy_EIv1_scaffold_000789     271070   \n",
       "4817  Triticum_aestivum_alchemy_EIv1_scaffold_000967     129808   \n",
       "4818  Triticum_aestivum_alchemy_EIv1_scaffold_000967     129591   \n",
       "\n",
       "                                      orig_scaffold1  orig_pos1      pos1  \\\n",
       "1     Triticum_aestivum_alchemy_EIv1_scaffold_000924      29974   29974.0   \n",
       "2     Triticum_aestivum_alchemy_EIv1_scaffold_000924     189046  189046.0   \n",
       "3     Triticum_aestivum_alchemy_EIv1_scaffold_000026     467870  467870.0   \n",
       "4     Triticum_aestivum_alchemy_EIv1_scaffold_000026     468920  468920.0   \n",
       "5     Triticum_aestivum_alchemy_EIv1_scaffold_000119     241423  241423.0   \n",
       "...                                              ...        ...       ...   \n",
       "4814  Triticum_aestivum_alchemy_EIv1_scaffold_000933      36643   36643.0   \n",
       "4815  Triticum_aestivum_alchemy_EIv1_scaffold_000789     271070  271070.0   \n",
       "4816  Triticum_aestivum_alchemy_EIv1_scaffold_000789     306072  306072.0   \n",
       "4817  Triticum_aestivum_alchemy_EIv1_scaffold_000967     129591  129591.0   \n",
       "4818  Triticum_aestivum_alchemy_EIv1_scaffold_000967     129808  129808.0   \n",
       "\n",
       "          pos2  \n",
       "1     189046.0  \n",
       "2      29974.0  \n",
       "3     468920.0  \n",
       "4     467870.0  \n",
       "5     241689.0  \n",
       "...        ...  \n",
       "4814   16264.0  \n",
       "4815  306072.0  \n",
       "4816  271070.0  \n",
       "4817  129808.0  \n",
       "4818  129591.0  \n",
       "\n",
       "[4818 rows x 10 columns]"
      ]
     },
     "execution_count": 64,
     "metadata": {},
     "output_type": "execute_result"
    }
   ],
   "source": [
    "r_v1[\"fpairs\"][r]"
   ]
  },
  {
   "cell_type": "code",
   "execution_count": null,
   "metadata": {},
   "outputs": [],
   "source": []
  }
 ],
 "metadata": {
  "kernelspec": {
   "display_name": "Python 3",
   "language": "python",
   "name": "python3"
  },
  "language_info": {
   "codemirror_mode": {
    "name": "ipython",
    "version": 3
   },
   "file_extension": ".py",
   "mimetype": "text/x-python",
   "name": "python",
   "nbconvert_exporter": "python",
   "pygments_lexer": "ipython3",
   "version": "3.7.6"
  }
 },
 "nbformat": 4,
 "nbformat_minor": 4
}
