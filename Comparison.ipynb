{
 "cells": [
  {
   "cell_type": "code",
   "execution_count": 20,
   "metadata": {},
   "outputs": [],
   "source": [
    "import pandas as pd\n",
    "import numpy as np\n",
    "import subprocess as sp\n",
    "from rpy2.robjects import r, pandas2ri\n",
    "\n",
    "pandas2ri.activate()"
   ]
  },
  {
   "cell_type": "code",
   "execution_count": 2,
   "metadata": {},
   "outputs": [],
   "source": [
    "popseq = pd.read_pickle(\"180130_wheat_CSS_POPSEQ.pickle.gz\")"
   ]
  },
  {
   "cell_type": "code",
   "execution_count": 33,
   "metadata": {},
   "outputs": [
    {
     "name": "stdout",
     "output_type": "stream",
     "text": [
      "-rw-rw-rw- 1 lucve lucve  12M May 12 19:52 180130_wheat_CSS_POPSEQ.pickle.gz\r\n",
      "-rw-rw-rw- 1 lucve lucve 3.4M May 12 20:17 assembly.initial_assembly.pickle.gz\r\n",
      "-rw-rw-rw- 1 lucve lucve  27M May 12 20:18 assembly.anchored_assembly.pickle\r\n",
      "-rw-rw-rw- 1 lucve lucve  967 May 12 20:18 assembly.initial_breaks.pickle.gz\r\n"
     ]
    }
   ],
   "source": [
    "! ls -lrth *pickle*"
   ]
  },
  {
   "cell_type": "code",
   "execution_count": 34,
   "metadata": {},
   "outputs": [
    {
     "name": "stdout",
     "output_type": "stream",
     "text": [
      "-rw-rw-rw- 1 lucve lucve 3.5M May 12 20:22 Minimal/assembly_init.Rds\r\n",
      "-rw-rw-rw- 1 lucve lucve  14M May 12 20:22 Minimal/alchemy_v0.Rds\r\n",
      "-rw-rw-rw- 1 lucve lucve  603 May 12 20:22 Minimal/alchemy_v0_breaks.Rds\r\n",
      "-rw-rw-rw- 1 lucve lucve  14M May 12 20:23 Minimal/20200414_assembly_v1.Rds\r\n",
      "-rw-rw-rw- 1 lucve lucve  815 May 12 20:23 Minimal/20200414_assembly_breaks.Rds\r\n"
     ]
    }
   ],
   "source": [
    "! ls -lrth Minimal/*Rds"
   ]
  },
  {
   "cell_type": "code",
   "execution_count": 31,
   "metadata": {},
   "outputs": [
    {
     "ename": "ValueError",
     "evalue": "Can only compare identically-labeled DataFrame objects",
     "output_type": "error",
     "traceback": [
      "\u001b[0;31m---------------------------------------------------------------------------\u001b[0m",
      "\u001b[0;31mValueError\u001b[0m                                Traceback (most recent call last)",
      "\u001b[0;32m<ipython-input-31-204c073441af>\u001b[0m in \u001b[0;36m<module>\u001b[0;34m\u001b[0m\n\u001b[1;32m      3\u001b[0m \u001b[0;34m\u001b[0m\u001b[0m\n\u001b[1;32m      4\u001b[0m \u001b[0minitial\u001b[0m \u001b[0;34m=\u001b[0m \u001b[0mpd\u001b[0m\u001b[0;34m.\u001b[0m\u001b[0mread_pickle\u001b[0m\u001b[0;34m(\u001b[0m\u001b[0;34m\"assembly.initial_assembly.pickle.gz\"\u001b[0m\u001b[0;34m)\u001b[0m\u001b[0;34m\u001b[0m\u001b[0;34m\u001b[0m\u001b[0m\n\u001b[0;32m----> 5\u001b[0;31m \u001b[0minitial\u001b[0m\u001b[0;34m[\u001b[0m\u001b[0;34m\"info\"\u001b[0m\u001b[0;34m]\u001b[0m \u001b[0;34m==\u001b[0m \u001b[0mr_initial\u001b[0m\u001b[0;34m[\u001b[0m\u001b[0;34m\"info\"\u001b[0m\u001b[0;34m]\u001b[0m\u001b[0;34m\u001b[0m\u001b[0;34m\u001b[0m\u001b[0m\n\u001b[0m",
      "\u001b[0;32m~/miniconda3/envs/pytritex/lib/python3.7/site-packages/pandas/core/ops/__init__.py\u001b[0m in \u001b[0;36mf\u001b[0;34m(self, other)\u001b[0m\n\u001b[1;32m    837\u001b[0m             \u001b[0;32mif\u001b[0m \u001b[0;32mnot\u001b[0m \u001b[0mself\u001b[0m\u001b[0;34m.\u001b[0m\u001b[0m_indexed_same\u001b[0m\u001b[0;34m(\u001b[0m\u001b[0mother\u001b[0m\u001b[0;34m)\u001b[0m\u001b[0;34m:\u001b[0m\u001b[0;34m\u001b[0m\u001b[0;34m\u001b[0m\u001b[0m\n\u001b[1;32m    838\u001b[0m                 raise ValueError(\n\u001b[0;32m--> 839\u001b[0;31m                     \u001b[0;34m\"Can only compare identically-labeled DataFrame objects\"\u001b[0m\u001b[0;34m\u001b[0m\u001b[0;34m\u001b[0m\u001b[0m\n\u001b[0m\u001b[1;32m    840\u001b[0m                 )\n\u001b[1;32m    841\u001b[0m             \u001b[0mnew_data\u001b[0m \u001b[0;34m=\u001b[0m \u001b[0mdispatch_to_series\u001b[0m\u001b[0;34m(\u001b[0m\u001b[0mself\u001b[0m\u001b[0;34m,\u001b[0m \u001b[0mother\u001b[0m\u001b[0;34m,\u001b[0m \u001b[0mop\u001b[0m\u001b[0;34m,\u001b[0m \u001b[0mstr_rep\u001b[0m\u001b[0;34m)\u001b[0m\u001b[0;34m\u001b[0m\u001b[0;34m\u001b[0m\u001b[0m\n",
      "\u001b[0;31mValueError\u001b[0m: Can only compare identically-labeled DataFrame objects"
     ]
    }
   ],
   "source": [
    "# These are now identical\n",
    "\n",
    "r_initial_r = r[\"readRDS\"](\"Minimal/assembly_init.Rds\")\n",
    "r_initial = dict(zip(r_initial_r.names, r_initial_r))\n",
    "\n",
    "initial = pd.read_pickle(\"assembly.initial_assembly.pickle.gz\")"
   ]
  },
  {
   "cell_type": "code",
   "execution_count": 36,
   "metadata": {},
   "outputs": [],
   "source": [
    "r_anchored_r = r[\"readRDS\"](\"Minimal/alchemy_v0.Rds\")\n",
    "r_anchored = dict(zip(r_anchored_r.names, r_anchored_r))"
   ]
  },
  {
   "cell_type": "code",
   "execution_count": 37,
   "metadata": {},
   "outputs": [],
   "source": [
    "! mv assembly.anchored_assembly.pickle assembly.anchored_assembly.pickle.gz"
   ]
  },
  {
   "cell_type": "code",
   "execution_count": 60,
   "metadata": {},
   "outputs": [],
   "source": [
    "anchored = pd.read_pickle(\"assembly.anchored_assembly.pickle.gz\")"
   ]
  },
  {
   "cell_type": "code",
   "execution_count": 61,
   "metadata": {},
   "outputs": [
    {
     "name": "stdout",
     "output_type": "stream",
     "text": [
      "info (100, 46) (100, 46)\n",
      "cssaln (8568, 16) (8568, 16)\n",
      "fpairs (4818, 10) (4818, 10)\n",
      "molecules (130892, 10) (130892, 10)\n",
      "popseq (1552095, 10) (1552095, 10)\n",
      "molecule_cov (200421, 8) (200421, 8)\n",
      "mol_binsize [200.] 200\n",
      "cov (6830, 10) (6830, 10)\n",
      "binsize [5000.] 5000.0\n",
      "minNbin [50.] 50\n",
      "innerDist [300000.] 300000.0\n"
     ]
    }
   ],
   "source": [
    "for key in r_anchored:\n",
    "    if isinstance(r_anchored[key], pd.DataFrame):\n",
    "        print(key, r_anchored[key].shape, anchored[key].shape)\n",
    "    else:\n",
    "        print(key, r_anchored[key], anchored[key])"
   ]
  },
  {
   "cell_type": "code",
   "execution_count": 59,
   "metadata": {},
   "outputs": [
    {
     "data": {
      "text/plain": [
       "(4818, 8)"
      ]
     },
     "execution_count": 59,
     "metadata": {},
     "output_type": "execute_result"
    }
   ],
   "source": [
    "r_initial[\"fpairs\"].shape"
   ]
  },
  {
   "cell_type": "code",
   "execution_count": 63,
   "metadata": {},
   "outputs": [],
   "source": [
    "r_v1_r = r[\"readRDS\"](\"Minimal/20200414_assembly_v1.Rds\")\n",
    "r_v1 = dict(zip(r_v1.names, r_v1))"
   ]
  },
  {
   "cell_type": "code",
   "execution_count": 262,
   "metadata": {},
   "outputs": [],
   "source": [
    "v1 = pd.read_pickle(\"assembly.assembly_v1.pickle.gz\")"
   ]
  },
  {
   "cell_type": "code",
   "execution_count": 75,
   "metadata": {},
   "outputs": [],
   "source": [
    "from rpy2.robjects import r, pandas2ri\n",
    "pandas2ri.activate()\n",
    "\n",
    "fai = r[\"readRDS\"](\"Minimal/test_fai.Rds\")\n",
    "assembly = r[\"readRDS\"](\"Minimal/assembly_init.Rds\")\n",
    "assembly = dict(zip(assembly.names, assembly))\n",
    "fpairs = assembly[\"fpairs\"]"
   ]
  },
  {
   "cell_type": "code",
   "execution_count": 263,
   "metadata": {},
   "outputs": [
    {
     "data": {
      "text/plain": [
       "dict_keys(['info', 'cssaln', 'fpairs', 'molecules', 'popseq', 'mol_binsize', 'molecule_cov', 'cov', 'binsize', 'innerDist', 'minNbin'])"
      ]
     },
     "execution_count": 263,
     "metadata": {},
     "output_type": "execute_result"
    }
   ],
   "source": [
    "v1.keys()"
   ]
  },
  {
   "cell_type": "code",
   "execution_count": 264,
   "metadata": {},
   "outputs": [
    {
     "data": {
      "text/plain": [
       "dict_keys(['info', 'cssaln', 'fpairs', 'molecules', 'breaks', 'popseq', 'cov', 'mol_binsize', 'molecule_cov', 'binsize', 'innerDist', 'minNbin'])"
      ]
     },
     "execution_count": 264,
     "metadata": {},
     "output_type": "execute_result"
    }
   ],
   "source": [
    "r_v1.keys()"
   ]
  },
  {
   "cell_type": "code",
   "execution_count": 267,
   "metadata": {},
   "outputs": [
    {
     "name": "stdout",
     "output_type": "stream",
     "text": [
      "info (126, 47) (122, 47)\n",
      "cssaln (8568, 16) (8568, 16)\n",
      "fpairs (4818, 10) (4818, 10)\n",
      "molecules (130808, 10) (126047, 10)\n",
      "breaks (2, 10) None\n",
      "popseq (1552095, 10) (1552095, 10)\n",
      "cov (6816, 10) (6830, 10)\n",
      "mol_binsize [200.] 200\n",
      "molecule_cov (200337, 8) (569370, 8)\n",
      "binsize [5000.] 5000.0\n",
      "innerDist [300000.] 300000.0\n",
      "minNbin [50.] 50\n"
     ]
    }
   ],
   "source": [
    "for key in r_v1:\n",
    "    if key not in v1:\n",
    "        v1_val = None\n",
    "    else:\n",
    "        v1_val = v1[key]\n",
    "        if isinstance(v1_val, pd.DataFrame):\n",
    "            v1_val = v1_val.shape\n",
    "    if isinstance(r_v1[key], pd.DataFrame):\n",
    "        print(key, r_v1[key].shape, v1_val)\n",
    "    else:\n",
    "        print(key, r_v1[key], v1_val)"
   ]
  },
  {
   "cell_type": "code",
   "execution_count": 274,
   "metadata": {},
   "outputs": [
    {
     "data": {
      "text/plain": [
       "(100,)"
      ]
     },
     "execution_count": 274,
     "metadata": {},
     "output_type": "execute_result"
    }
   ],
   "source": [
    "r_v1[\"info\"].orig_scaffold.unique().shape"
   ]
  },
  {
   "cell_type": "code",
   "execution_count": 273,
   "metadata": {},
   "outputs": [
    {
     "data": {
      "text/plain": [
       "(100,)"
      ]
     },
     "execution_count": 273,
     "metadata": {},
     "output_type": "execute_result"
    }
   ],
   "source": [
    "v1[\"info\"].orig_scaffold.unique().shape"
   ]
  },
  {
   "cell_type": "code",
   "execution_count": null,
   "metadata": {},
   "outputs": [],
   "source": []
  }
 ],
 "metadata": {
  "kernelspec": {
   "display_name": "Python 3",
   "language": "python",
   "name": "python3"
  },
  "language_info": {
   "codemirror_mode": {
    "name": "ipython",
    "version": 3
   },
   "file_extension": ".py",
   "mimetype": "text/x-python",
   "name": "python",
   "nbconvert_exporter": "python",
   "pygments_lexer": "ipython3",
   "version": "3.7.6"
  }
 },
 "nbformat": 4,
 "nbformat_minor": 4
}
